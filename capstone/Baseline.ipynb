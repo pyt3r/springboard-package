{
  "nbformat": 4,
  "nbformat_minor": 0,
  "metadata": {
    "colab": {
      "provenance": [],
      "authorship_tag": "ABX9TyMcv59vWJiSY+/ByjcVKxu1",
      "include_colab_link": true
    },
    "kernelspec": {
      "name": "python3",
      "display_name": "Python 3"
    },
    "language_info": {
      "name": "python"
    }
  },
  "cells": [
    {
      "cell_type": "markdown",
      "metadata": {
        "id": "view-in-github",
        "colab_type": "text"
      },
      "source": [
        "<a href=\"https://colab.research.google.com/github/pyt3r/springboard-package/blob/master/capstone/Baseline.ipynb\" target=\"_parent\"><img src=\"https://colab.research.google.com/assets/colab-badge.svg\" alt=\"Open In Colab\"/></a>"
      ]
    },
    {
      "cell_type": "markdown",
      "source": [
        "## Mount Colab Drive"
      ],
      "metadata": {
        "id": "aZeBMPLtuAbx"
      }
    },
    {
      "cell_type": "code",
      "execution_count": 1,
      "metadata": {
        "colab": {
          "base_uri": "https://localhost:8080/"
        },
        "id": "z7gezmNsoKfB",
        "outputId": "605c5fca-3981-4a35-d633-5e5df04ea8e3"
      },
      "outputs": [
        {
          "output_type": "stream",
          "name": "stdout",
          "text": [
            "Drive already mounted at /content/drive; to attempt to forcibly remount, call drive.mount(\"/content/drive\", force_remount=True).\n"
          ]
        }
      ],
      "source": [
        "from google.colab import drive\n",
        "drive.mount('/content/drive')\n",
        "\n",
        "import pathlib\n",
        "root = pathlib.Path('/content/drive/MyDrive/home/Research/Springboard/Colab Notebooks')"
      ]
    },
    {
      "cell_type": "markdown",
      "source": [
        "## Imports"
      ],
      "metadata": {
        "id": "ZTmaCNO05w6y"
      }
    },
    {
      "cell_type": "code",
      "source": [
        "import pandas as pd\n",
        "import numpy as np\n",
        "import matplotlib.pyplot as plt"
      ],
      "metadata": {
        "id": "JH6GYtvb5wHA"
      },
      "execution_count": 2,
      "outputs": []
    },
    {
      "cell_type": "markdown",
      "source": [
        "## Read OHLC Data"
      ],
      "metadata": {
        "id": "V6iBjRU4t8CD"
      }
    },
    {
      "cell_type": "code",
      "source": [
        "ohlc = pd.read_csv( root / 'ohlc.csv' )\n",
        "ohlc.head()"
      ],
      "metadata": {
        "colab": {
          "base_uri": "https://localhost:8080/",
          "height": 206
        },
        "id": "z-RjiZtstKbM",
        "outputId": "77e24dd4-d781-4a91-c13d-c20967ac7ee3"
      },
      "execution_count": 3,
      "outputs": [
        {
          "output_type": "execute_result",
          "data": {
            "text/plain": [
              "        Date       Open       High        Low      Close  Adj Close  \\\n",
              "0  9/10/2025  111539.06  113745.24  110959.16  113538.72  113538.72   \n",
              "1   9/9/2025  112077.58  113225.44  110776.70  111530.55  111530.55   \n",
              "2   9/8/2025  111163.02  112869.23  110630.61  112071.43  112071.43   \n",
              "3   9/7/2025  110221.33  111591.08  110211.63  111167.62  111167.62   \n",
              "4   9/6/2025  110650.57  111275.02  110024.09  110224.70  110224.70   \n",
              "\n",
              "         Volume  \n",
              "0  5.259328e+10  \n",
              "1  4.598448e+10  \n",
              "2  4.021281e+10  \n",
              "3  2.461801e+10  \n",
              "4  2.150072e+10  "
            ],
            "text/html": [
              "\n",
              "  <div id=\"df-4842595d-2d72-45bc-973d-81a2b3c558a3\" class=\"colab-df-container\">\n",
              "    <div>\n",
              "<style scoped>\n",
              "    .dataframe tbody tr th:only-of-type {\n",
              "        vertical-align: middle;\n",
              "    }\n",
              "\n",
              "    .dataframe tbody tr th {\n",
              "        vertical-align: top;\n",
              "    }\n",
              "\n",
              "    .dataframe thead th {\n",
              "        text-align: right;\n",
              "    }\n",
              "</style>\n",
              "<table border=\"1\" class=\"dataframe\">\n",
              "  <thead>\n",
              "    <tr style=\"text-align: right;\">\n",
              "      <th></th>\n",
              "      <th>Date</th>\n",
              "      <th>Open</th>\n",
              "      <th>High</th>\n",
              "      <th>Low</th>\n",
              "      <th>Close</th>\n",
              "      <th>Adj Close</th>\n",
              "      <th>Volume</th>\n",
              "    </tr>\n",
              "  </thead>\n",
              "  <tbody>\n",
              "    <tr>\n",
              "      <th>0</th>\n",
              "      <td>9/10/2025</td>\n",
              "      <td>111539.06</td>\n",
              "      <td>113745.24</td>\n",
              "      <td>110959.16</td>\n",
              "      <td>113538.72</td>\n",
              "      <td>113538.72</td>\n",
              "      <td>5.259328e+10</td>\n",
              "    </tr>\n",
              "    <tr>\n",
              "      <th>1</th>\n",
              "      <td>9/9/2025</td>\n",
              "      <td>112077.58</td>\n",
              "      <td>113225.44</td>\n",
              "      <td>110776.70</td>\n",
              "      <td>111530.55</td>\n",
              "      <td>111530.55</td>\n",
              "      <td>4.598448e+10</td>\n",
              "    </tr>\n",
              "    <tr>\n",
              "      <th>2</th>\n",
              "      <td>9/8/2025</td>\n",
              "      <td>111163.02</td>\n",
              "      <td>112869.23</td>\n",
              "      <td>110630.61</td>\n",
              "      <td>112071.43</td>\n",
              "      <td>112071.43</td>\n",
              "      <td>4.021281e+10</td>\n",
              "    </tr>\n",
              "    <tr>\n",
              "      <th>3</th>\n",
              "      <td>9/7/2025</td>\n",
              "      <td>110221.33</td>\n",
              "      <td>111591.08</td>\n",
              "      <td>110211.63</td>\n",
              "      <td>111167.62</td>\n",
              "      <td>111167.62</td>\n",
              "      <td>2.461801e+10</td>\n",
              "    </tr>\n",
              "    <tr>\n",
              "      <th>4</th>\n",
              "      <td>9/6/2025</td>\n",
              "      <td>110650.57</td>\n",
              "      <td>111275.02</td>\n",
              "      <td>110024.09</td>\n",
              "      <td>110224.70</td>\n",
              "      <td>110224.70</td>\n",
              "      <td>2.150072e+10</td>\n",
              "    </tr>\n",
              "  </tbody>\n",
              "</table>\n",
              "</div>\n",
              "    <div class=\"colab-df-buttons\">\n",
              "\n",
              "  <div class=\"colab-df-container\">\n",
              "    <button class=\"colab-df-convert\" onclick=\"convertToInteractive('df-4842595d-2d72-45bc-973d-81a2b3c558a3')\"\n",
              "            title=\"Convert this dataframe to an interactive table.\"\n",
              "            style=\"display:none;\">\n",
              "\n",
              "  <svg xmlns=\"http://www.w3.org/2000/svg\" height=\"24px\" viewBox=\"0 -960 960 960\">\n",
              "    <path d=\"M120-120v-720h720v720H120Zm60-500h600v-160H180v160Zm220 220h160v-160H400v160Zm0 220h160v-160H400v160ZM180-400h160v-160H180v160Zm440 0h160v-160H620v160ZM180-180h160v-160H180v160Zm440 0h160v-160H620v160Z\"/>\n",
              "  </svg>\n",
              "    </button>\n",
              "\n",
              "  <style>\n",
              "    .colab-df-container {\n",
              "      display:flex;\n",
              "      gap: 12px;\n",
              "    }\n",
              "\n",
              "    .colab-df-convert {\n",
              "      background-color: #E8F0FE;\n",
              "      border: none;\n",
              "      border-radius: 50%;\n",
              "      cursor: pointer;\n",
              "      display: none;\n",
              "      fill: #1967D2;\n",
              "      height: 32px;\n",
              "      padding: 0 0 0 0;\n",
              "      width: 32px;\n",
              "    }\n",
              "\n",
              "    .colab-df-convert:hover {\n",
              "      background-color: #E2EBFA;\n",
              "      box-shadow: 0px 1px 2px rgba(60, 64, 67, 0.3), 0px 1px 3px 1px rgba(60, 64, 67, 0.15);\n",
              "      fill: #174EA6;\n",
              "    }\n",
              "\n",
              "    .colab-df-buttons div {\n",
              "      margin-bottom: 4px;\n",
              "    }\n",
              "\n",
              "    [theme=dark] .colab-df-convert {\n",
              "      background-color: #3B4455;\n",
              "      fill: #D2E3FC;\n",
              "    }\n",
              "\n",
              "    [theme=dark] .colab-df-convert:hover {\n",
              "      background-color: #434B5C;\n",
              "      box-shadow: 0px 1px 3px 1px rgba(0, 0, 0, 0.15);\n",
              "      filter: drop-shadow(0px 1px 2px rgba(0, 0, 0, 0.3));\n",
              "      fill: #FFFFFF;\n",
              "    }\n",
              "  </style>\n",
              "\n",
              "    <script>\n",
              "      const buttonEl =\n",
              "        document.querySelector('#df-4842595d-2d72-45bc-973d-81a2b3c558a3 button.colab-df-convert');\n",
              "      buttonEl.style.display =\n",
              "        google.colab.kernel.accessAllowed ? 'block' : 'none';\n",
              "\n",
              "      async function convertToInteractive(key) {\n",
              "        const element = document.querySelector('#df-4842595d-2d72-45bc-973d-81a2b3c558a3');\n",
              "        const dataTable =\n",
              "          await google.colab.kernel.invokeFunction('convertToInteractive',\n",
              "                                                    [key], {});\n",
              "        if (!dataTable) return;\n",
              "\n",
              "        const docLinkHtml = 'Like what you see? Visit the ' +\n",
              "          '<a target=\"_blank\" href=https://colab.research.google.com/notebooks/data_table.ipynb>data table notebook</a>'\n",
              "          + ' to learn more about interactive tables.';\n",
              "        element.innerHTML = '';\n",
              "        dataTable['output_type'] = 'display_data';\n",
              "        await google.colab.output.renderOutput(dataTable, element);\n",
              "        const docLink = document.createElement('div');\n",
              "        docLink.innerHTML = docLinkHtml;\n",
              "        element.appendChild(docLink);\n",
              "      }\n",
              "    </script>\n",
              "  </div>\n",
              "\n",
              "\n",
              "    <div id=\"df-3b998e81-af6b-4f47-b7d6-0fdd063fe66a\">\n",
              "      <button class=\"colab-df-quickchart\" onclick=\"quickchart('df-3b998e81-af6b-4f47-b7d6-0fdd063fe66a')\"\n",
              "                title=\"Suggest charts\"\n",
              "                style=\"display:none;\">\n",
              "\n",
              "<svg xmlns=\"http://www.w3.org/2000/svg\" height=\"24px\"viewBox=\"0 0 24 24\"\n",
              "     width=\"24px\">\n",
              "    <g>\n",
              "        <path d=\"M19 3H5c-1.1 0-2 .9-2 2v14c0 1.1.9 2 2 2h14c1.1 0 2-.9 2-2V5c0-1.1-.9-2-2-2zM9 17H7v-7h2v7zm4 0h-2V7h2v10zm4 0h-2v-4h2v4z\"/>\n",
              "    </g>\n",
              "</svg>\n",
              "      </button>\n",
              "\n",
              "<style>\n",
              "  .colab-df-quickchart {\n",
              "      --bg-color: #E8F0FE;\n",
              "      --fill-color: #1967D2;\n",
              "      --hover-bg-color: #E2EBFA;\n",
              "      --hover-fill-color: #174EA6;\n",
              "      --disabled-fill-color: #AAA;\n",
              "      --disabled-bg-color: #DDD;\n",
              "  }\n",
              "\n",
              "  [theme=dark] .colab-df-quickchart {\n",
              "      --bg-color: #3B4455;\n",
              "      --fill-color: #D2E3FC;\n",
              "      --hover-bg-color: #434B5C;\n",
              "      --hover-fill-color: #FFFFFF;\n",
              "      --disabled-bg-color: #3B4455;\n",
              "      --disabled-fill-color: #666;\n",
              "  }\n",
              "\n",
              "  .colab-df-quickchart {\n",
              "    background-color: var(--bg-color);\n",
              "    border: none;\n",
              "    border-radius: 50%;\n",
              "    cursor: pointer;\n",
              "    display: none;\n",
              "    fill: var(--fill-color);\n",
              "    height: 32px;\n",
              "    padding: 0;\n",
              "    width: 32px;\n",
              "  }\n",
              "\n",
              "  .colab-df-quickchart:hover {\n",
              "    background-color: var(--hover-bg-color);\n",
              "    box-shadow: 0 1px 2px rgba(60, 64, 67, 0.3), 0 1px 3px 1px rgba(60, 64, 67, 0.15);\n",
              "    fill: var(--button-hover-fill-color);\n",
              "  }\n",
              "\n",
              "  .colab-df-quickchart-complete:disabled,\n",
              "  .colab-df-quickchart-complete:disabled:hover {\n",
              "    background-color: var(--disabled-bg-color);\n",
              "    fill: var(--disabled-fill-color);\n",
              "    box-shadow: none;\n",
              "  }\n",
              "\n",
              "  .colab-df-spinner {\n",
              "    border: 2px solid var(--fill-color);\n",
              "    border-color: transparent;\n",
              "    border-bottom-color: var(--fill-color);\n",
              "    animation:\n",
              "      spin 1s steps(1) infinite;\n",
              "  }\n",
              "\n",
              "  @keyframes spin {\n",
              "    0% {\n",
              "      border-color: transparent;\n",
              "      border-bottom-color: var(--fill-color);\n",
              "      border-left-color: var(--fill-color);\n",
              "    }\n",
              "    20% {\n",
              "      border-color: transparent;\n",
              "      border-left-color: var(--fill-color);\n",
              "      border-top-color: var(--fill-color);\n",
              "    }\n",
              "    30% {\n",
              "      border-color: transparent;\n",
              "      border-left-color: var(--fill-color);\n",
              "      border-top-color: var(--fill-color);\n",
              "      border-right-color: var(--fill-color);\n",
              "    }\n",
              "    40% {\n",
              "      border-color: transparent;\n",
              "      border-right-color: var(--fill-color);\n",
              "      border-top-color: var(--fill-color);\n",
              "    }\n",
              "    60% {\n",
              "      border-color: transparent;\n",
              "      border-right-color: var(--fill-color);\n",
              "    }\n",
              "    80% {\n",
              "      border-color: transparent;\n",
              "      border-right-color: var(--fill-color);\n",
              "      border-bottom-color: var(--fill-color);\n",
              "    }\n",
              "    90% {\n",
              "      border-color: transparent;\n",
              "      border-bottom-color: var(--fill-color);\n",
              "    }\n",
              "  }\n",
              "</style>\n",
              "\n",
              "      <script>\n",
              "        async function quickchart(key) {\n",
              "          const quickchartButtonEl =\n",
              "            document.querySelector('#' + key + ' button');\n",
              "          quickchartButtonEl.disabled = true;  // To prevent multiple clicks.\n",
              "          quickchartButtonEl.classList.add('colab-df-spinner');\n",
              "          try {\n",
              "            const charts = await google.colab.kernel.invokeFunction(\n",
              "                'suggestCharts', [key], {});\n",
              "          } catch (error) {\n",
              "            console.error('Error during call to suggestCharts:', error);\n",
              "          }\n",
              "          quickchartButtonEl.classList.remove('colab-df-spinner');\n",
              "          quickchartButtonEl.classList.add('colab-df-quickchart-complete');\n",
              "        }\n",
              "        (() => {\n",
              "          let quickchartButtonEl =\n",
              "            document.querySelector('#df-3b998e81-af6b-4f47-b7d6-0fdd063fe66a button');\n",
              "          quickchartButtonEl.style.display =\n",
              "            google.colab.kernel.accessAllowed ? 'block' : 'none';\n",
              "        })();\n",
              "      </script>\n",
              "    </div>\n",
              "\n",
              "    </div>\n",
              "  </div>\n"
            ],
            "application/vnd.google.colaboratory.intrinsic+json": {
              "type": "dataframe",
              "variable_name": "ohlc",
              "summary": "{\n  \"name\": \"ohlc\",\n  \"rows\": 366,\n  \"fields\": [\n    {\n      \"column\": \"Date\",\n      \"properties\": {\n        \"dtype\": \"object\",\n        \"num_unique_values\": 366,\n        \"samples\": [\n          \"3/1/2025\",\n          \"8/8/2025\",\n          \"8/26/2025\"\n        ],\n        \"semantic_type\": \"\",\n        \"description\": \"\"\n      }\n    },\n    {\n      \"column\": \"Open\",\n      \"properties\": {\n        \"dtype\": \"number\",\n        \"std\": 16617.431584462272,\n        \"min\": 57020.1,\n        \"max\": 123339.4,\n        \"num_unique_values\": 366,\n        \"samples\": [\n          84373.87,\n          117505.5,\n          110124.1\n        ],\n        \"semantic_type\": \"\",\n        \"description\": \"\"\n      }\n    },\n    {\n      \"column\": \"High\",\n      \"properties\": {\n        \"dtype\": \"number\",\n        \"std\": 16648.054090685062,\n        \"min\": 57991.32,\n        \"max\": 124457.12,\n        \"num_unique_values\": 366,\n        \"samples\": [\n          86522.3,\n          117689.2,\n          112397.02\n        ],\n        \"semantic_type\": \"\",\n        \"description\": \"\"\n      }\n    },\n    {\n      \"column\": \"Low\",\n      \"properties\": {\n        \"dtype\": \"number\",\n        \"std\": 16485.649685385884,\n        \"min\": 55567.34,\n        \"max\": 118959.2,\n        \"num_unique_values\": 366,\n        \"samples\": [\n          83794.23,\n          115917.46,\n          108762.04\n        ],\n        \"semantic_type\": \"\",\n        \"description\": \"\"\n      }\n    },\n    {\n      \"column\": \"Close\",\n      \"properties\": {\n        \"dtype\": \"number\",\n        \"std\": 16531.709579956325,\n        \"min\": 57343.17,\n        \"max\": 123344.06,\n        \"num_unique_values\": 366,\n        \"samples\": [\n          86031.91,\n          116688.73,\n          111802.66\n        ],\n        \"semantic_type\": \"\",\n        \"description\": \"\"\n      }\n    },\n    {\n      \"column\": \"Adj Close\",\n      \"properties\": {\n        \"dtype\": \"number\",\n        \"std\": 16531.709579956325,\n        \"min\": 57343.17,\n        \"max\": 123344.06,\n        \"num_unique_values\": 366,\n        \"samples\": [\n          86031.91,\n          116688.73,\n          111802.66\n        ],\n        \"semantic_type\": \"\",\n        \"description\": \"\"\n      }\n    },\n    {\n      \"column\": \"Volume\",\n      \"properties\": {\n        \"dtype\": \"number\",\n        \"std\": 24809633170.367485,\n        \"min\": 9863214091.0,\n        \"max\": 181746419401.0,\n        \"num_unique_values\": 366,\n        \"samples\": [\n          29190628396.0,\n          59713005166.0,\n          69396320317.0\n        ],\n        \"semantic_type\": \"\",\n        \"description\": \"\"\n      }\n    }\n  ]\n}"
            }
          },
          "metadata": {},
          "execution_count": 3
        }
      ]
    },
    {
      "cell_type": "code",
      "source": [
        "ohlc.shape"
      ],
      "metadata": {
        "colab": {
          "base_uri": "https://localhost:8080/"
        },
        "id": "NB1MPzrO1rgO",
        "outputId": "02b13e45-c05a-4edc-993a-87f343607df3"
      },
      "execution_count": 4,
      "outputs": [
        {
          "output_type": "execute_result",
          "data": {
            "text/plain": [
              "(366, 7)"
            ]
          },
          "metadata": {},
          "execution_count": 4
        }
      ]
    },
    {
      "cell_type": "markdown",
      "source": [
        "- Date Range"
      ],
      "metadata": {
        "id": "c6otpLCq1diC"
      }
    },
    {
      "cell_type": "code",
      "source": [
        "ohlc['Date'] = pd.to_datetime( ohlc['Date'] )\n",
        "ohlc.Date.min(), ohlc.Date.max()"
      ],
      "metadata": {
        "colab": {
          "base_uri": "https://localhost:8080/"
        },
        "id": "W8o12o3qtda5",
        "outputId": "d1469e30-3c69-425e-c8a2-acfbd8f672d9"
      },
      "execution_count": 5,
      "outputs": [
        {
          "output_type": "execute_result",
          "data": {
            "text/plain": [
              "(Timestamp('2024-09-10 00:00:00'), Timestamp('2025-09-10 00:00:00'))"
            ]
          },
          "metadata": {},
          "execution_count": 5
        }
      ]
    },
    {
      "cell_type": "markdown",
      "source": [
        "- Closing Prices"
      ],
      "metadata": {
        "id": "KC5flOj61jTs"
      }
    },
    {
      "cell_type": "code",
      "source": [
        "ohlc.Close.min(), ohlc.Close.max()"
      ],
      "metadata": {
        "colab": {
          "base_uri": "https://localhost:8080/"
        },
        "id": "F_2vhHiRxTXS",
        "outputId": "659e8855-4bc4-4fff-f77c-1a96249716bf"
      },
      "execution_count": 6,
      "outputs": [
        {
          "output_type": "execute_result",
          "data": {
            "text/plain": [
              "(57343.17, 123344.06)"
            ]
          },
          "metadata": {},
          "execution_count": 6
        }
      ]
    },
    {
      "cell_type": "markdown",
      "source": [
        "- Sort by date"
      ],
      "metadata": {
        "id": "x4SwSiVp4JkC"
      }
    },
    {
      "cell_type": "code",
      "source": [
        "ohlc = ohlc.sort_values( 'Date', ascending=True )\n",
        "ohlc.set_index( 'Date', inplace=True )\n",
        "ohlc.head()"
      ],
      "metadata": {
        "colab": {
          "base_uri": "https://localhost:8080/",
          "height": 238
        },
        "id": "oFVXUoZS2o69",
        "outputId": "e5660ae0-d9e9-4ad3-905c-9af5df232f4b"
      },
      "execution_count": 7,
      "outputs": [
        {
          "output_type": "execute_result",
          "data": {
            "text/plain": [
              "                Open      High       Low     Close  Adj Close        Volume\n",
              "Date                                                                       \n",
              "2024-09-10  57020.10  58029.98  56419.41  57648.71   57648.71  2.885763e+10\n",
              "2024-09-11  57650.29  57991.32  55567.34  57343.17   57343.17  3.704906e+10\n",
              "2024-09-12  57343.17  58534.36  57330.10  58127.01   58127.01  3.383571e+10\n",
              "2024-09-13  58130.32  60648.02  57650.11  60571.30   60571.30  3.249053e+10\n",
              "2024-09-14  60569.12  60656.72  59517.88  60005.12   60005.12  1.642841e+10"
            ],
            "text/html": [
              "\n",
              "  <div id=\"df-f35367fd-35ba-42f2-8440-d17646e4ca09\" class=\"colab-df-container\">\n",
              "    <div>\n",
              "<style scoped>\n",
              "    .dataframe tbody tr th:only-of-type {\n",
              "        vertical-align: middle;\n",
              "    }\n",
              "\n",
              "    .dataframe tbody tr th {\n",
              "        vertical-align: top;\n",
              "    }\n",
              "\n",
              "    .dataframe thead th {\n",
              "        text-align: right;\n",
              "    }\n",
              "</style>\n",
              "<table border=\"1\" class=\"dataframe\">\n",
              "  <thead>\n",
              "    <tr style=\"text-align: right;\">\n",
              "      <th></th>\n",
              "      <th>Open</th>\n",
              "      <th>High</th>\n",
              "      <th>Low</th>\n",
              "      <th>Close</th>\n",
              "      <th>Adj Close</th>\n",
              "      <th>Volume</th>\n",
              "    </tr>\n",
              "    <tr>\n",
              "      <th>Date</th>\n",
              "      <th></th>\n",
              "      <th></th>\n",
              "      <th></th>\n",
              "      <th></th>\n",
              "      <th></th>\n",
              "      <th></th>\n",
              "    </tr>\n",
              "  </thead>\n",
              "  <tbody>\n",
              "    <tr>\n",
              "      <th>2024-09-10</th>\n",
              "      <td>57020.10</td>\n",
              "      <td>58029.98</td>\n",
              "      <td>56419.41</td>\n",
              "      <td>57648.71</td>\n",
              "      <td>57648.71</td>\n",
              "      <td>2.885763e+10</td>\n",
              "    </tr>\n",
              "    <tr>\n",
              "      <th>2024-09-11</th>\n",
              "      <td>57650.29</td>\n",
              "      <td>57991.32</td>\n",
              "      <td>55567.34</td>\n",
              "      <td>57343.17</td>\n",
              "      <td>57343.17</td>\n",
              "      <td>3.704906e+10</td>\n",
              "    </tr>\n",
              "    <tr>\n",
              "      <th>2024-09-12</th>\n",
              "      <td>57343.17</td>\n",
              "      <td>58534.36</td>\n",
              "      <td>57330.10</td>\n",
              "      <td>58127.01</td>\n",
              "      <td>58127.01</td>\n",
              "      <td>3.383571e+10</td>\n",
              "    </tr>\n",
              "    <tr>\n",
              "      <th>2024-09-13</th>\n",
              "      <td>58130.32</td>\n",
              "      <td>60648.02</td>\n",
              "      <td>57650.11</td>\n",
              "      <td>60571.30</td>\n",
              "      <td>60571.30</td>\n",
              "      <td>3.249053e+10</td>\n",
              "    </tr>\n",
              "    <tr>\n",
              "      <th>2024-09-14</th>\n",
              "      <td>60569.12</td>\n",
              "      <td>60656.72</td>\n",
              "      <td>59517.88</td>\n",
              "      <td>60005.12</td>\n",
              "      <td>60005.12</td>\n",
              "      <td>1.642841e+10</td>\n",
              "    </tr>\n",
              "  </tbody>\n",
              "</table>\n",
              "</div>\n",
              "    <div class=\"colab-df-buttons\">\n",
              "\n",
              "  <div class=\"colab-df-container\">\n",
              "    <button class=\"colab-df-convert\" onclick=\"convertToInteractive('df-f35367fd-35ba-42f2-8440-d17646e4ca09')\"\n",
              "            title=\"Convert this dataframe to an interactive table.\"\n",
              "            style=\"display:none;\">\n",
              "\n",
              "  <svg xmlns=\"http://www.w3.org/2000/svg\" height=\"24px\" viewBox=\"0 -960 960 960\">\n",
              "    <path d=\"M120-120v-720h720v720H120Zm60-500h600v-160H180v160Zm220 220h160v-160H400v160Zm0 220h160v-160H400v160ZM180-400h160v-160H180v160Zm440 0h160v-160H620v160ZM180-180h160v-160H180v160Zm440 0h160v-160H620v160Z\"/>\n",
              "  </svg>\n",
              "    </button>\n",
              "\n",
              "  <style>\n",
              "    .colab-df-container {\n",
              "      display:flex;\n",
              "      gap: 12px;\n",
              "    }\n",
              "\n",
              "    .colab-df-convert {\n",
              "      background-color: #E8F0FE;\n",
              "      border: none;\n",
              "      border-radius: 50%;\n",
              "      cursor: pointer;\n",
              "      display: none;\n",
              "      fill: #1967D2;\n",
              "      height: 32px;\n",
              "      padding: 0 0 0 0;\n",
              "      width: 32px;\n",
              "    }\n",
              "\n",
              "    .colab-df-convert:hover {\n",
              "      background-color: #E2EBFA;\n",
              "      box-shadow: 0px 1px 2px rgba(60, 64, 67, 0.3), 0px 1px 3px 1px rgba(60, 64, 67, 0.15);\n",
              "      fill: #174EA6;\n",
              "    }\n",
              "\n",
              "    .colab-df-buttons div {\n",
              "      margin-bottom: 4px;\n",
              "    }\n",
              "\n",
              "    [theme=dark] .colab-df-convert {\n",
              "      background-color: #3B4455;\n",
              "      fill: #D2E3FC;\n",
              "    }\n",
              "\n",
              "    [theme=dark] .colab-df-convert:hover {\n",
              "      background-color: #434B5C;\n",
              "      box-shadow: 0px 1px 3px 1px rgba(0, 0, 0, 0.15);\n",
              "      filter: drop-shadow(0px 1px 2px rgba(0, 0, 0, 0.3));\n",
              "      fill: #FFFFFF;\n",
              "    }\n",
              "  </style>\n",
              "\n",
              "    <script>\n",
              "      const buttonEl =\n",
              "        document.querySelector('#df-f35367fd-35ba-42f2-8440-d17646e4ca09 button.colab-df-convert');\n",
              "      buttonEl.style.display =\n",
              "        google.colab.kernel.accessAllowed ? 'block' : 'none';\n",
              "\n",
              "      async function convertToInteractive(key) {\n",
              "        const element = document.querySelector('#df-f35367fd-35ba-42f2-8440-d17646e4ca09');\n",
              "        const dataTable =\n",
              "          await google.colab.kernel.invokeFunction('convertToInteractive',\n",
              "                                                    [key], {});\n",
              "        if (!dataTable) return;\n",
              "\n",
              "        const docLinkHtml = 'Like what you see? Visit the ' +\n",
              "          '<a target=\"_blank\" href=https://colab.research.google.com/notebooks/data_table.ipynb>data table notebook</a>'\n",
              "          + ' to learn more about interactive tables.';\n",
              "        element.innerHTML = '';\n",
              "        dataTable['output_type'] = 'display_data';\n",
              "        await google.colab.output.renderOutput(dataTable, element);\n",
              "        const docLink = document.createElement('div');\n",
              "        docLink.innerHTML = docLinkHtml;\n",
              "        element.appendChild(docLink);\n",
              "      }\n",
              "    </script>\n",
              "  </div>\n",
              "\n",
              "\n",
              "    <div id=\"df-5d0e57db-3d0f-4fcd-b16e-039b37e37057\">\n",
              "      <button class=\"colab-df-quickchart\" onclick=\"quickchart('df-5d0e57db-3d0f-4fcd-b16e-039b37e37057')\"\n",
              "                title=\"Suggest charts\"\n",
              "                style=\"display:none;\">\n",
              "\n",
              "<svg xmlns=\"http://www.w3.org/2000/svg\" height=\"24px\"viewBox=\"0 0 24 24\"\n",
              "     width=\"24px\">\n",
              "    <g>\n",
              "        <path d=\"M19 3H5c-1.1 0-2 .9-2 2v14c0 1.1.9 2 2 2h14c1.1 0 2-.9 2-2V5c0-1.1-.9-2-2-2zM9 17H7v-7h2v7zm4 0h-2V7h2v10zm4 0h-2v-4h2v4z\"/>\n",
              "    </g>\n",
              "</svg>\n",
              "      </button>\n",
              "\n",
              "<style>\n",
              "  .colab-df-quickchart {\n",
              "      --bg-color: #E8F0FE;\n",
              "      --fill-color: #1967D2;\n",
              "      --hover-bg-color: #E2EBFA;\n",
              "      --hover-fill-color: #174EA6;\n",
              "      --disabled-fill-color: #AAA;\n",
              "      --disabled-bg-color: #DDD;\n",
              "  }\n",
              "\n",
              "  [theme=dark] .colab-df-quickchart {\n",
              "      --bg-color: #3B4455;\n",
              "      --fill-color: #D2E3FC;\n",
              "      --hover-bg-color: #434B5C;\n",
              "      --hover-fill-color: #FFFFFF;\n",
              "      --disabled-bg-color: #3B4455;\n",
              "      --disabled-fill-color: #666;\n",
              "  }\n",
              "\n",
              "  .colab-df-quickchart {\n",
              "    background-color: var(--bg-color);\n",
              "    border: none;\n",
              "    border-radius: 50%;\n",
              "    cursor: pointer;\n",
              "    display: none;\n",
              "    fill: var(--fill-color);\n",
              "    height: 32px;\n",
              "    padding: 0;\n",
              "    width: 32px;\n",
              "  }\n",
              "\n",
              "  .colab-df-quickchart:hover {\n",
              "    background-color: var(--hover-bg-color);\n",
              "    box-shadow: 0 1px 2px rgba(60, 64, 67, 0.3), 0 1px 3px 1px rgba(60, 64, 67, 0.15);\n",
              "    fill: var(--button-hover-fill-color);\n",
              "  }\n",
              "\n",
              "  .colab-df-quickchart-complete:disabled,\n",
              "  .colab-df-quickchart-complete:disabled:hover {\n",
              "    background-color: var(--disabled-bg-color);\n",
              "    fill: var(--disabled-fill-color);\n",
              "    box-shadow: none;\n",
              "  }\n",
              "\n",
              "  .colab-df-spinner {\n",
              "    border: 2px solid var(--fill-color);\n",
              "    border-color: transparent;\n",
              "    border-bottom-color: var(--fill-color);\n",
              "    animation:\n",
              "      spin 1s steps(1) infinite;\n",
              "  }\n",
              "\n",
              "  @keyframes spin {\n",
              "    0% {\n",
              "      border-color: transparent;\n",
              "      border-bottom-color: var(--fill-color);\n",
              "      border-left-color: var(--fill-color);\n",
              "    }\n",
              "    20% {\n",
              "      border-color: transparent;\n",
              "      border-left-color: var(--fill-color);\n",
              "      border-top-color: var(--fill-color);\n",
              "    }\n",
              "    30% {\n",
              "      border-color: transparent;\n",
              "      border-left-color: var(--fill-color);\n",
              "      border-top-color: var(--fill-color);\n",
              "      border-right-color: var(--fill-color);\n",
              "    }\n",
              "    40% {\n",
              "      border-color: transparent;\n",
              "      border-right-color: var(--fill-color);\n",
              "      border-top-color: var(--fill-color);\n",
              "    }\n",
              "    60% {\n",
              "      border-color: transparent;\n",
              "      border-right-color: var(--fill-color);\n",
              "    }\n",
              "    80% {\n",
              "      border-color: transparent;\n",
              "      border-right-color: var(--fill-color);\n",
              "      border-bottom-color: var(--fill-color);\n",
              "    }\n",
              "    90% {\n",
              "      border-color: transparent;\n",
              "      border-bottom-color: var(--fill-color);\n",
              "    }\n",
              "  }\n",
              "</style>\n",
              "\n",
              "      <script>\n",
              "        async function quickchart(key) {\n",
              "          const quickchartButtonEl =\n",
              "            document.querySelector('#' + key + ' button');\n",
              "          quickchartButtonEl.disabled = true;  // To prevent multiple clicks.\n",
              "          quickchartButtonEl.classList.add('colab-df-spinner');\n",
              "          try {\n",
              "            const charts = await google.colab.kernel.invokeFunction(\n",
              "                'suggestCharts', [key], {});\n",
              "          } catch (error) {\n",
              "            console.error('Error during call to suggestCharts:', error);\n",
              "          }\n",
              "          quickchartButtonEl.classList.remove('colab-df-spinner');\n",
              "          quickchartButtonEl.classList.add('colab-df-quickchart-complete');\n",
              "        }\n",
              "        (() => {\n",
              "          let quickchartButtonEl =\n",
              "            document.querySelector('#df-5d0e57db-3d0f-4fcd-b16e-039b37e37057 button');\n",
              "          quickchartButtonEl.style.display =\n",
              "            google.colab.kernel.accessAllowed ? 'block' : 'none';\n",
              "        })();\n",
              "      </script>\n",
              "    </div>\n",
              "\n",
              "    </div>\n",
              "  </div>\n"
            ],
            "application/vnd.google.colaboratory.intrinsic+json": {
              "type": "dataframe",
              "variable_name": "ohlc",
              "summary": "{\n  \"name\": \"ohlc\",\n  \"rows\": 366,\n  \"fields\": [\n    {\n      \"column\": \"Date\",\n      \"properties\": {\n        \"dtype\": \"date\",\n        \"min\": \"2024-09-10 00:00:00\",\n        \"max\": \"2025-09-10 00:00:00\",\n        \"num_unique_values\": 366,\n        \"samples\": [\n          \"2025-03-22 00:00:00\",\n          \"2024-10-13 00:00:00\",\n          \"2024-09-25 00:00:00\"\n        ],\n        \"semantic_type\": \"\",\n        \"description\": \"\"\n      }\n    },\n    {\n      \"column\": \"Open\",\n      \"properties\": {\n        \"dtype\": \"number\",\n        \"std\": 16617.43158446227,\n        \"min\": 57020.1,\n        \"max\": 123339.4,\n        \"num_unique_values\": 366,\n        \"samples\": [\n          84046.26,\n          63192.95,\n          64302.59\n        ],\n        \"semantic_type\": \"\",\n        \"description\": \"\"\n      }\n    },\n    {\n      \"column\": \"High\",\n      \"properties\": {\n        \"dtype\": \"number\",\n        \"std\": 16648.054090685055,\n        \"min\": 57991.32,\n        \"max\": 124457.12,\n        \"num_unique_values\": 366,\n        \"samples\": [\n          84513.88,\n          63272.65,\n          64804.5\n        ],\n        \"semantic_type\": \"\",\n        \"description\": \"\"\n      }\n    },\n    {\n      \"column\": \"Low\",\n      \"properties\": {\n        \"dtype\": \"number\",\n        \"std\": 16485.649685385884,\n        \"min\": 55567.34,\n        \"max\": 118959.2,\n        \"num_unique_values\": 366,\n        \"samples\": [\n          83674.78,\n          62035.64,\n          62945.38\n        ],\n        \"semantic_type\": \"\",\n        \"description\": \"\"\n      }\n    },\n    {\n      \"column\": \"Close\",\n      \"properties\": {\n        \"dtype\": \"number\",\n        \"std\": 16531.709579956318,\n        \"min\": 57343.17,\n        \"max\": 123344.06,\n        \"num_unique_values\": 366,\n        \"samples\": [\n          83832.48,\n          62851.38,\n          63143.14\n        ],\n        \"semantic_type\": \"\",\n        \"description\": \"\"\n      }\n    },\n    {\n      \"column\": \"Adj Close\",\n      \"properties\": {\n        \"dtype\": \"number\",\n        \"std\": 16531.709579956318,\n        \"min\": 57343.17,\n        \"max\": 123344.06,\n        \"num_unique_values\": 366,\n        \"samples\": [\n          83832.48,\n          62851.38,\n          63143.14\n        ],\n        \"semantic_type\": \"\",\n        \"description\": \"\"\n      }\n    },\n    {\n      \"column\": \"Volume\",\n      \"properties\": {\n        \"dtype\": \"number\",\n        \"std\": 24809633170.36749,\n        \"min\": 9863214091.0,\n        \"max\": 181746419401.0,\n        \"num_unique_values\": 366,\n        \"samples\": [\n          9863214091.0,\n          18177529690.0,\n          25078377700.0\n        ],\n        \"semantic_type\": \"\",\n        \"description\": \"\"\n      }\n    }\n  ]\n}"
            }
          },
          "metadata": {},
          "execution_count": 7
        }
      ]
    },
    {
      "cell_type": "code",
      "source": [
        "DF = ohlc\n",
        "\n",
        "fig, (ax1, ax2) = plt.subplots(2, 1, figsize=(14, 10), sharex=True)\n",
        "\n",
        "top = ['Open', 'High', 'Low', 'Close']\n",
        "bottom = ['Volume']\n",
        "\n",
        "for c in top:\n",
        "  ax1.plot(DF.index, DF[c], label=c)\n",
        "\n",
        "for c in bottom:\n",
        "  ax2.bar(DF.index, DF[c], label=c)\n",
        "\n",
        "for ax in [ax1, ax2]:\n",
        "  ax.legend()\n",
        "  ax.grid(True)\n",
        "\n",
        "plt.tight_layout()\n",
        "plt.show()"
      ],
      "metadata": {
        "colab": {
          "base_uri": "https://localhost:8080/",
          "height": 673
        },
        "id": "xNsM86cU4aQM",
        "outputId": "c7b50b56-c2ee-424f-e36f-8fb485e2f49c"
      },
      "execution_count": 8,
      "outputs": [
        {
          "output_type": "display_data",
          "data": {
            "text/plain": [
              "<Figure size 1400x1000 with 2 Axes>"
            ],
            "image/png": "[encoded data removed]"
          },
          "metadata": {}
        }
      ]
    },
    {
      "cell_type": "markdown",
      "source": [
        "## Moving Averages"
      ],
      "metadata": {
        "id": "fMjWjKJ41zT2"
      }
    },
    {
      "cell_type": "code",
      "source": [
        "def simpleMA( metric, window ):\n",
        "  return metric.rolling( window ).mean()\n",
        "\n",
        "def expMA( metric, window ):\n",
        "  return metric.ewm( span=window, min_periods=window ).mean()"
      ],
      "metadata": {
        "id": "hkylqjX313R6"
      },
      "execution_count": 9,
      "outputs": []
    },
    {
      "cell_type": "code",
      "metadata": {
        "id": "9076f2c9"
      },
      "source": [
        "price = ohlc['Close']\n",
        "\n",
        "window = 30\n",
        "\n",
        "MA = pd.DataFrame({\n",
        "    f'sma({window})': simpleMA(price, window),\n",
        "    f'ema({window})': expMA(price, window), })\n"
      ],
      "execution_count": 10,
      "outputs": []
    },
    {
      "cell_type": "markdown",
      "source": [
        "## Crossover"
      ],
      "metadata": {
        "id": "P2Q-C8uE5mMh"
      }
    },
    {
      "cell_type": "code",
      "source": [
        "def crossover( s1, s2, lag ):\n",
        "  x = s1 - s2\n",
        "  x = x * 0 + np.sign(x)\n",
        "  return x.shift(lag)"
      ],
      "metadata": {
        "id": "WLe0akEE5HMv"
      },
      "execution_count": 11,
      "outputs": []
    },
    {
      "cell_type": "code",
      "metadata": {
        "id": "6bcbd540"
      },
      "source": [
        "price = ohlc['Close']\n",
        "\n",
        "short_window = 15\n",
        "long_window =  50\n",
        "lag = 1\n",
        "\n",
        "short = simpleMA(price, short_window)\n",
        "long  = simpleMA(price, long_window)\n",
        "cross = crossover(short, long, lag)\n",
        "\n",
        "Crossover = pd.DataFrame({\n",
        "    f'x(sma({short_window}),sma({long_window}))': cross, })\n"
      ],
      "execution_count": 12,
      "outputs": []
    },
    {
      "cell_type": "markdown",
      "source": [
        "## Bollinger Bands"
      ],
      "metadata": {
        "id": "Xebmup--74ve"
      }
    },
    {
      "cell_type": "code",
      "source": [
        "def bollUpper( metric, window, stdevs ):\n",
        "    return boll( metric, window, abs( stdevs ))\n",
        "\n",
        "def bollLower( metric, window, stdevs ):\n",
        "    return boll( metric, window, -abs( stdevs ))\n",
        "\n",
        "def boll( metric, window, stdevs ):\n",
        "    ma = simpleMA( metric, window )\n",
        "    std = stDev( metric, window )\n",
        "    return ma + ( std * stdevs )\n",
        "\n",
        "def stDev( metric, window ):\n",
        "    return metric.rolling( window ).std()\n"
      ],
      "metadata": {
        "id": "yubbDiW2764w"
      },
      "execution_count": 13,
      "outputs": []
    },
    {
      "cell_type": "code",
      "source": [
        "price = ohlc['Close']\n",
        "\n",
        "window = 20\n",
        "stdevs = 2\n",
        "\n",
        "results = [\n",
        "    bollUpper(price, window, stdevs),\n",
        "    bollLower(price, window, stdevs), ]\n",
        "\n",
        "names = [\n",
        "    f'bollUpper({window},{stdevs})',\n",
        "    f'bollLower({window},{stdevs})', ]\n",
        "\n",
        "Bollinger = pd.DataFrame(dict(zip(names, results)))\n"
      ],
      "metadata": {
        "id": "C4kqWiIH9a7x"
      },
      "execution_count": 14,
      "outputs": []
    },
    {
      "cell_type": "markdown",
      "source": [
        "### Moving Average Convergence Divergence (MACD)\n",
        "\n",
        "Moving Average Convergence Divergence (MACD) involves the following three calculations; the last of which, the MACD distance, may be used by analysts in determining the magnitude of bullish or bearish momentum.\n",
        "\n",
        "1. MACD is the difference between a long and short EMA.\n",
        "\n",
        "2. The Signal Line is then the EMA of the MACD (#1).\n",
        "\n",
        "3. The MACD Distance is the difference between the MACD (#1) and Signal Line (#2)."
      ],
      "metadata": {
        "id": "ygyU0B8IDtrn"
      }
    },
    {
      "cell_type": "code",
      "source": [
        "def macd(metric, short_window, long_window):\n",
        "    short = expMA( metric, short_window )\n",
        "    long = expMA( metric, long_window )\n",
        "    return short - long\n",
        "\n",
        "\n",
        "def macdDistance(macd_metric, signal_metric):\n",
        "    return macd_metric - signal_metric"
      ],
      "metadata": {
        "id": "Vx1d-RC3EAQ8"
      },
      "execution_count": 15,
      "outputs": []
    },
    {
      "cell_type": "code",
      "source": [
        "price = ohlc['Close']\n",
        "\n",
        "short_window = 12\n",
        "long_window = 26\n",
        "signal_window = 9\n",
        "\n",
        "short       = expMA( price, short_window )\n",
        "long        = expMA( price, long_window )\n",
        "macd_metric = macd( price, short_window, long_window )\n",
        "signal      = expMA( macd_metric, signal_window )\n",
        "dist        = macdDistance( macd_metric, signal )\n",
        "\n",
        "Macd = pd.DataFrame({\n",
        "  f'macdDistance({short_window}, {long_window}, {signal_window})': dist,\n",
        "})\n",
        "\n"
      ],
      "metadata": {
        "id": "_if7iKpXD6Pb"
      },
      "execution_count": 16,
      "outputs": []
    },
    {
      "cell_type": "markdown",
      "source": [
        "## Oscillators\n",
        "\n",
        "An oscillator is a trend indicator that fluctuates between an upper and a lower bound. Like Bollinger Bands, analysts use oscillators to help identify oversold and overbought signals.\n",
        "\n",
        "Generally, an analyst might use a threshold above 70% or 80% to indicate an overbought asset, and a threshold below 30% or 20% to indicate an underbought asset."
      ],
      "metadata": {
        "id": "deWjM2YQZrIn"
      }
    },
    {
      "cell_type": "markdown",
      "source": [
        "### Relative Strength Index (RSI)"
      ],
      "metadata": {
        "id": "-3QHAxiheI36"
      }
    },
    {
      "cell_type": "code",
      "source": [
        "def rsiBase(metric, window, funcMA):\n",
        "    diff = metric.diff()\n",
        "    signs = np.sign(diff)\n",
        "    isPositive = (signs + 1) / 2\n",
        "    isNegative = (signs - 1).abs() / 2\n",
        "\n",
        "    gain = isPositive * diff\n",
        "    loss = isNegative * diff.abs()\n",
        "\n",
        "    avgGain = funcMA(gain, window)\n",
        "    avgLoss = funcMA(loss, window)\n",
        "\n",
        "    rsi = avgGain / avgLoss\n",
        "    rsi = 100 / (1 + rsi)\n",
        "    return 100 - rsi\n",
        "\n",
        "\n",
        "def rsiSma(metric, window):\n",
        "    return rsiBase(metric, window, funcMA=simpleMA)\n",
        "\n",
        "\n",
        "def rsiEma(metric, window):\n",
        "    return rsiBase(metric, window, funcMA=expMA)"
      ],
      "metadata": {
        "id": "LZF522Q-eH_C"
      },
      "execution_count": 17,
      "outputs": []
    },
    {
      "cell_type": "code",
      "source": [
        "price = ohlc['Close']\n",
        "\n",
        "window = 14\n",
        "\n",
        "Rsi = pd.DataFrame({\n",
        "    f'rsiSma({window})' : rsiSma(price, window),\n",
        "    f'rsiEma({window})' : rsiEma(price, window), })\n"
      ],
      "metadata": {
        "id": "FbsBpRnReaU_"
      },
      "execution_count": 18,
      "outputs": []
    },
    {
      "cell_type": "markdown",
      "source": [
        "### Money Flow Index (MFI)\n",
        "\n",
        "Tracks price movement, weighted by how much money is behind the movement.\n",
        "\n",
        "For example:\n",
        "- As prices rise with increasing volume, MFI might confirm that there's genuine buying pressure.\n",
        "- But if prices are rising while the MFI fails to follow suit, that can be a warning that the rally is on shaky ground"
      ],
      "metadata": {
        "id": "ta8s5mtbfTD5"
      }
    },
    {
      "cell_type": "code",
      "source": [
        "def mfi(high, low, close, volume, window):\n",
        "    tmp = mfiRatio(high, low, close, volume, window)\n",
        "    tmp += 1\n",
        "    return 100 - (100 / tmp)\n",
        "\n",
        "\n",
        "def mfiRatio(high, low, close, volume, window):\n",
        "    price = typicalPrice(high, low, close)\n",
        "    mf = rawMoneyFlow(high, low, close, volume)\n",
        "\n",
        "    diff = price.diff()\n",
        "    signs = np.sign(diff)\n",
        "    isPositive = (signs + 1) / 2\n",
        "    isNegative = (signs - 1).abs() / 2\n",
        "\n",
        "    mf_positive = mf * isPositive\n",
        "    mf_negative = mf * isNegative\n",
        "\n",
        "    ratio = mf_positive.rolling(window).sum()\n",
        "    ratio /= mf_negative.rolling(window).sum()\n",
        "    return ratio\n",
        "\n",
        "\n",
        "def rawMoneyFlow(high, low, close, volume):\n",
        "    return typicalPrice(high, low, close) * volume\n",
        "\n",
        "\n",
        "def typicalPrice(high, low, close):\n",
        "    return (high + low + close) / 3"
      ],
      "metadata": {
        "id": "I2jLHlYjfSf_"
      },
      "execution_count": 19,
      "outputs": []
    },
    {
      "cell_type": "code",
      "source": [
        "window = 14\n",
        "\n",
        "high   = ohlc['High']\n",
        "low    = ohlc['Low']\n",
        "close  = ohlc['Close']\n",
        "volume = ohlc['Volume']\n",
        "\n",
        "Mfi = pd.DataFrame({\n",
        "    f'mfi({window})' : mfi(high, low, close, volume, window), })\n"
      ],
      "metadata": {
        "id": "d52_jpJnfg-l"
      },
      "execution_count": 20,
      "outputs": []
    },
    {
      "cell_type": "markdown",
      "source": [
        "## Features\n"
      ],
      "metadata": {
        "id": "40FzqDldGcgS"
      }
    },
    {
      "cell_type": "code",
      "source": [
        "Features = pd.concat([\n",
        "    MA,\n",
        "    Crossover,\n",
        "    Bollinger,\n",
        "    Macd,\n",
        "    Rsi,\n",
        "    Mfi,\n",
        "], axis=1 )\n",
        "\n",
        "print(len(Features))\n",
        "Features.tail()\n"
      ],
      "metadata": {
        "colab": {
          "base_uri": "https://localhost:8080/",
          "height": 379
        },
        "id": "0et9lEtYGfjJ",
        "outputId": "13e1b952-6ceb-4171-c9fb-26072a12a979"
      },
      "execution_count": 21,
      "outputs": [
        {
          "output_type": "stream",
          "name": "stdout",
          "text": [
            "366\n"
          ]
        },
        {
          "output_type": "execute_result",
          "data": {
            "text/plain": [
              "               sma(30)        ema(30)  x(sma(15),sma(50))  bollUpper(20,2)  \\\n",
              "Date                                                                         \n",
              "2025-09-06  114061.796  112719.860474                -1.0    116790.061701   \n",
              "2025-09-07  113877.759  112619.715928                -1.0    116080.579405   \n",
              "2025-09-08  113730.128  112584.342642                -1.0    116010.442618   \n",
              "2025-09-09  113470.921  112516.356020                -1.0    115683.202514   \n",
              "2025-09-10  113297.830  112582.314986                -1.0    115824.018564   \n",
              "\n",
              "            bollLower(20,2)  macdDistance(12, 26, 9)  rsiSma(14)  rsiEma(14)  \\\n",
              "Date                                                                           \n",
              "2025-09-06    106850.665299                31.246031   36.390459   43.325287   \n",
              "2025-09-07    107051.678595               123.447427   43.617566   49.689109   \n",
              "2025-09-08    107045.840382               245.823697   56.274451   55.246898   \n",
              "2025-09-09    107098.661486               287.940804   49.053761   51.331334   \n",
              "2025-09-10    107069.814436               439.563315   57.328382   62.666593   \n",
              "\n",
              "              mfi(14)  \n",
              "Date                   \n",
              "2025-09-06  49.517919  \n",
              "2025-09-07  55.602814  \n",
              "2025-09-08  64.088129  \n",
              "2025-09-09  66.056176  \n",
              "2025-09-10  65.646769  "
            ],
            "text/html": [
              "\n",
              "  <div id=\"df-def09fc9-e3de-40fd-8111-c0e917f5ef3f\" class=\"colab-df-container\">\n",
              "    <div>\n",
              "<style scoped>\n",
              "    .dataframe tbody tr th:only-of-type {\n",
              "        vertical-align: middle;\n",
              "    }\n",
              "\n",
              "    .dataframe tbody tr th {\n",
              "        vertical-align: top;\n",
              "    }\n",
              "\n",
              "    .dataframe thead th {\n",
              "        text-align: right;\n",
              "    }\n",
              "</style>\n",
              "<table border=\"1\" class=\"dataframe\">\n",
              "  <thead>\n",
              "    <tr style=\"text-align: right;\">\n",
              "      <th></th>\n",
              "      <th>sma(30)</th>\n",
              "      <th>ema(30)</th>\n",
              "      <th>x(sma(15),sma(50))</th>\n",
              "      <th>bollUpper(20,2)</th>\n",
              "      <th>bollLower(20,2)</th>\n",
              "      <th>macdDistance(12, 26, 9)</th>\n",
              "      <th>rsiSma(14)</th>\n",
              "      <th>rsiEma(14)</th>\n",
              "      <th>mfi(14)</th>\n",
              "    </tr>\n",
              "    <tr>\n",
              "      <th>Date</th>\n",
              "      <th></th>\n",
              "      <th></th>\n",
              "      <th></th>\n",
              "      <th></th>\n",
              "      <th></th>\n",
              "      <th></th>\n",
              "      <th></th>\n",
              "      <th></th>\n",
              "      <th></th>\n",
              "    </tr>\n",
              "  </thead>\n",
              "  <tbody>\n",
              "    <tr>\n",
              "      <th>2025-09-06</th>\n",
              "      <td>114061.796</td>\n",
              "      <td>112719.860474</td>\n",
              "      <td>-1.0</td>\n",
              "      <td>116790.061701</td>\n",
              "      <td>106850.665299</td>\n",
              "      <td>31.246031</td>\n",
              "      <td>36.390459</td>\n",
              "      <td>43.325287</td>\n",
              "      <td>49.517919</td>\n",
              "    </tr>\n",
              "    <tr>\n",
              "      <th>2025-09-07</th>\n",
              "      <td>113877.759</td>\n",
              "      <td>112619.715928</td>\n",
              "      <td>-1.0</td>\n",
              "      <td>116080.579405</td>\n",
              "      <td>107051.678595</td>\n",
              "      <td>123.447427</td>\n",
              "      <td>43.617566</td>\n",
              "      <td>49.689109</td>\n",
              "      <td>55.602814</td>\n",
              "    </tr>\n",
              "    <tr>\n",
              "      <th>2025-09-08</th>\n",
              "      <td>113730.128</td>\n",
              "      <td>112584.342642</td>\n",
              "      <td>-1.0</td>\n",
              "      <td>116010.442618</td>\n",
              "      <td>107045.840382</td>\n",
              "      <td>245.823697</td>\n",
              "      <td>56.274451</td>\n",
              "      <td>55.246898</td>\n",
              "      <td>64.088129</td>\n",
              "    </tr>\n",
              "    <tr>\n",
              "      <th>2025-09-09</th>\n",
              "      <td>113470.921</td>\n",
              "      <td>112516.356020</td>\n",
              "      <td>-1.0</td>\n",
              "      <td>115683.202514</td>\n",
              "      <td>107098.661486</td>\n",
              "      <td>287.940804</td>\n",
              "      <td>49.053761</td>\n",
              "      <td>51.331334</td>\n",
              "      <td>66.056176</td>\n",
              "    </tr>\n",
              "    <tr>\n",
              "      <th>2025-09-10</th>\n",
              "      <td>113297.830</td>\n",
              "      <td>112582.314986</td>\n",
              "      <td>-1.0</td>\n",
              "      <td>115824.018564</td>\n",
              "      <td>107069.814436</td>\n",
              "      <td>439.563315</td>\n",
              "      <td>57.328382</td>\n",
              "      <td>62.666593</td>\n",
              "      <td>65.646769</td>\n",
              "    </tr>\n",
              "  </tbody>\n",
              "</table>\n",
              "</div>\n",
              "    <div class=\"colab-df-buttons\">\n",
              "\n",
              "  <div class=\"colab-df-container\">\n",
              "    <button class=\"colab-df-convert\" onclick=\"convertToInteractive('df-def09fc9-e3de-40fd-8111-c0e917f5ef3f')\"\n",
              "            title=\"Convert this dataframe to an interactive table.\"\n",
              "            style=\"display:none;\">\n",
              "\n",
              "  <svg xmlns=\"http://www.w3.org/2000/svg\" height=\"24px\" viewBox=\"0 -960 960 960\">\n",
              "    <path d=\"M120-120v-720h720v720H120Zm60-500h600v-160H180v160Zm220 220h160v-160H400v160Zm0 220h160v-160H400v160ZM180-400h160v-160H180v160Zm440 0h160v-160H620v160ZM180-180h160v-160H180v160Zm440 0h160v-160H620v160Z\"/>\n",
              "  </svg>\n",
              "    </button>\n",
              "\n",
              "  <style>\n",
              "    .colab-df-container {\n",
              "      display:flex;\n",
              "      gap: 12px;\n",
              "    }\n",
              "\n",
              "    .colab-df-convert {\n",
              "      background-color: #E8F0FE;\n",
              "      border: none;\n",
              "      border-radius: 50%;\n",
              "      cursor: pointer;\n",
              "      display: none;\n",
              "      fill: #1967D2;\n",
              "      height: 32px;\n",
              "      padding: 0 0 0 0;\n",
              "      width: 32px;\n",
              "    }\n",
              "\n",
              "    .colab-df-convert:hover {\n",
              "      background-color: #E2EBFA;\n",
              "      box-shadow: 0px 1px 2px rgba(60, 64, 67, 0.3), 0px 1px 3px 1px rgba(60, 64, 67, 0.15);\n",
              "      fill: #174EA6;\n",
              "    }\n",
              "\n",
              "    .colab-df-buttons div {\n",
              "      margin-bottom: 4px;\n",
              "    }\n",
              "\n",
              "    [theme=dark] .colab-df-convert {\n",
              "      background-color: #3B4455;\n",
              "      fill: #D2E3FC;\n",
              "    }\n",
              "\n",
              "    [theme=dark] .colab-df-convert:hover {\n",
              "      background-color: #434B5C;\n",
              "      box-shadow: 0px 1px 3px 1px rgba(0, 0, 0, 0.15);\n",
              "      filter: drop-shadow(0px 1px 2px rgba(0, 0, 0, 0.3));\n",
              "      fill: #FFFFFF;\n",
              "    }\n",
              "  </style>\n",
              "\n",
              "    <script>\n",
              "      const buttonEl =\n",
              "        document.querySelector('#df-def09fc9-e3de-40fd-8111-c0e917f5ef3f button.colab-df-convert');\n",
              "      buttonEl.style.display =\n",
              "        google.colab.kernel.accessAllowed ? 'block' : 'none';\n",
              "\n",
              "      async function convertToInteractive(key) {\n",
              "        const element = document.querySelector('#df-def09fc9-e3de-40fd-8111-c0e917f5ef3f');\n",
              "        const dataTable =\n",
              "          await google.colab.kernel.invokeFunction('convertToInteractive',\n",
              "                                                    [key], {});\n",
              "        if (!dataTable) return;\n",
              "\n",
              "        const docLinkHtml = 'Like what you see? Visit the ' +\n",
              "          '<a target=\"_blank\" href=https://colab.research.google.com/notebooks/data_table.ipynb>data table notebook</a>'\n",
              "          + ' to learn more about interactive tables.';\n",
              "        element.innerHTML = '';\n",
              "        dataTable['output_type'] = 'display_data';\n",
              "        await google.colab.output.renderOutput(dataTable, element);\n",
              "        const docLink = document.createElement('div');\n",
              "        docLink.innerHTML = docLinkHtml;\n",
              "        element.appendChild(docLink);\n",
              "      }\n",
              "    </script>\n",
              "  </div>\n",
              "\n",
              "\n",
              "    <div id=\"df-4f1db94a-c29c-4760-8512-0db544092098\">\n",
              "      <button class=\"colab-df-quickchart\" onclick=\"quickchart('df-4f1db94a-c29c-4760-8512-0db544092098')\"\n",
              "                title=\"Suggest charts\"\n",
              "                style=\"display:none;\">\n",
              "\n",
              "<svg xmlns=\"http://www.w3.org/2000/svg\" height=\"24px\"viewBox=\"0 0 24 24\"\n",
              "     width=\"24px\">\n",
              "    <g>\n",
              "        <path d=\"M19 3H5c-1.1 0-2 .9-2 2v14c0 1.1.9 2 2 2h14c1.1 0 2-.9 2-2V5c0-1.1-.9-2-2-2zM9 17H7v-7h2v7zm4 0h-2V7h2v10zm4 0h-2v-4h2v4z\"/>\n",
              "    </g>\n",
              "</svg>\n",
              "      </button>\n",
              "\n",
              "<style>\n",
              "  .colab-df-quickchart {\n",
              "      --bg-color: #E8F0FE;\n",
              "      --fill-color: #1967D2;\n",
              "      --hover-bg-color: #E2EBFA;\n",
              "      --hover-fill-color: #174EA6;\n",
              "      --disabled-fill-color: #AAA;\n",
              "      --disabled-bg-color: #DDD;\n",
              "  }\n",
              "\n",
              "  [theme=dark] .colab-df-quickchart {\n",
              "      --bg-color: #3B4455;\n",
              "      --fill-color: #D2E3FC;\n",
              "      --hover-bg-color: #434B5C;\n",
              "      --hover-fill-color: #FFFFFF;\n",
              "      --disabled-bg-color: #3B4455;\n",
              "      --disabled-fill-color: #666;\n",
              "  }\n",
              "\n",
              "  .colab-df-quickchart {\n",
              "    background-color: var(--bg-color);\n",
              "    border: none;\n",
              "    border-radius: 50%;\n",
              "    cursor: pointer;\n",
              "    display: none;\n",
              "    fill: var(--fill-color);\n",
              "    height: 32px;\n",
              "    padding: 0;\n",
              "    width: 32px;\n",
              "  }\n",
              "\n",
              "  .colab-df-quickchart:hover {\n",
              "    background-color: var(--hover-bg-color);\n",
              "    box-shadow: 0 1px 2px rgba(60, 64, 67, 0.3), 0 1px 3px 1px rgba(60, 64, 67, 0.15);\n",
              "    fill: var(--button-hover-fill-color);\n",
              "  }\n",
              "\n",
              "  .colab-df-quickchart-complete:disabled,\n",
              "  .colab-df-quickchart-complete:disabled:hover {\n",
              "    background-color: var(--disabled-bg-color);\n",
              "    fill: var(--disabled-fill-color);\n",
              "    box-shadow: none;\n",
              "  }\n",
              "\n",
              "  .colab-df-spinner {\n",
              "    border: 2px solid var(--fill-color);\n",
              "    border-color: transparent;\n",
              "    border-bottom-color: var(--fill-color);\n",
              "    animation:\n",
              "      spin 1s steps(1) infinite;\n",
              "  }\n",
              "\n",
              "  @keyframes spin {\n",
              "    0% {\n",
              "      border-color: transparent;\n",
              "      border-bottom-color: var(--fill-color);\n",
              "      border-left-color: var(--fill-color);\n",
              "    }\n",
              "    20% {\n",
              "      border-color: transparent;\n",
              "      border-left-color: var(--fill-color);\n",
              "      border-top-color: var(--fill-color);\n",
              "    }\n",
              "    30% {\n",
              "      border-color: transparent;\n",
              "      border-left-color: var(--fill-color);\n",
              "      border-top-color: var(--fill-color);\n",
              "      border-right-color: var(--fill-color);\n",
              "    }\n",
              "    40% {\n",
              "      border-color: transparent;\n",
              "      border-right-color: var(--fill-color);\n",
              "      border-top-color: var(--fill-color);\n",
              "    }\n",
              "    60% {\n",
              "      border-color: transparent;\n",
              "      border-right-color: var(--fill-color);\n",
              "    }\n",
              "    80% {\n",
              "      border-color: transparent;\n",
              "      border-right-color: var(--fill-color);\n",
              "      border-bottom-color: var(--fill-color);\n",
              "    }\n",
              "    90% {\n",
              "      border-color: transparent;\n",
              "      border-bottom-color: var(--fill-color);\n",
              "    }\n",
              "  }\n",
              "</style>\n",
              "\n",
              "      <script>\n",
              "        async function quickchart(key) {\n",
              "          const quickchartButtonEl =\n",
              "            document.querySelector('#' + key + ' button');\n",
              "          quickchartButtonEl.disabled = true;  // To prevent multiple clicks.\n",
              "          quickchartButtonEl.classList.add('colab-df-spinner');\n",
              "          try {\n",
              "            const charts = await google.colab.kernel.invokeFunction(\n",
              "                'suggestCharts', [key], {});\n",
              "          } catch (error) {\n",
              "            console.error('Error during call to suggestCharts:', error);\n",
              "          }\n",
              "          quickchartButtonEl.classList.remove('colab-df-spinner');\n",
              "          quickchartButtonEl.classList.add('colab-df-quickchart-complete');\n",
              "        }\n",
              "        (() => {\n",
              "          let quickchartButtonEl =\n",
              "            document.querySelector('#df-4f1db94a-c29c-4760-8512-0db544092098 button');\n",
              "          quickchartButtonEl.style.display =\n",
              "            google.colab.kernel.accessAllowed ? 'block' : 'none';\n",
              "        })();\n",
              "      </script>\n",
              "    </div>\n",
              "\n",
              "    </div>\n",
              "  </div>\n"
            ],
            "application/vnd.google.colaboratory.intrinsic+json": {
              "type": "dataframe",
              "summary": "{\n  \"name\": \"Features\",\n  \"rows\": 5,\n  \"fields\": [\n    {\n      \"column\": \"Date\",\n      \"properties\": {\n        \"dtype\": \"date\",\n        \"min\": \"2025-09-06 00:00:00\",\n        \"max\": \"2025-09-10 00:00:00\",\n        \"num_unique_values\": 5,\n        \"samples\": [\n          \"2025-09-07 00:00:00\",\n          \"2025-09-10 00:00:00\",\n          \"2025-09-08 00:00:00\"\n        ],\n        \"semantic_type\": \"\",\n        \"description\": \"\"\n      }\n    },\n    {\n      \"column\": \"sma(30)\",\n      \"properties\": {\n        \"dtype\": \"number\",\n        \"std\": 306.9454865081099,\n        \"min\": 113297.83,\n        \"max\": 114061.796,\n        \"num_unique_values\": 5,\n        \"samples\": [\n          113877.759,\n          113297.83,\n          113730.128\n        ],\n        \"semantic_type\": \"\",\n        \"description\": \"\"\n      }\n    },\n    {\n      \"column\": \"ema(30)\",\n      \"properties\": {\n        \"dtype\": \"number\",\n        \"std\": 74.51076601985787,\n        \"min\": 112516.35601982597,\n        \"max\": 112719.86047426292,\n        \"num_unique_values\": 5,\n        \"samples\": [\n          112619.71592753321,\n          112582.31498629045,\n          112584.34264188488\n        ],\n        \"semantic_type\": \"\",\n        \"description\": \"\"\n      }\n    },\n    {\n      \"column\": \"x(sma(15),sma(50))\",\n      \"properties\": {\n        \"dtype\": \"number\",\n        \"std\": 0.0,\n        \"min\": -1.0,\n        \"max\": -1.0,\n        \"num_unique_values\": 1,\n        \"samples\": [\n          -1.0\n        ],\n        \"semantic_type\": \"\",\n        \"description\": \"\"\n      }\n    },\n    {\n      \"column\": \"bollUpper(20,2)\",\n      \"properties\": {\n        \"dtype\": \"number\",\n        \"std\": 427.77726951183416,\n        \"min\": 115683.20251360007,\n        \"max\": 116790.06170079666,\n        \"num_unique_values\": 5,\n        \"samples\": [\n          116080.57940453742\n        ],\n        \"semantic_type\": \"\",\n        \"description\": \"\"\n      }\n    },\n    {\n      \"column\": \"bollLower(20,2)\",\n      \"properties\": {\n        \"dtype\": \"number\",\n        \"std\": 98.69029165932129,\n        \"min\": 106850.66529920335,\n        \"max\": 107098.6614863999,\n        \"num_unique_values\": 5,\n        \"samples\": [\n          107051.67859546258\n        ],\n        \"semantic_type\": \"\",\n        \"description\": \"\"\n      }\n    },\n    {\n      \"column\": \"macdDistance(12, 26, 9)\",\n      \"properties\": {\n        \"dtype\": \"number\",\n        \"std\": 156.75162443911165,\n        \"min\": 31.246031302616302,\n        \"max\": 439.5633149215623,\n        \"num_unique_values\": 5,\n        \"samples\": [\n          123.44742731868155\n        ],\n        \"semantic_type\": \"\",\n        \"description\": \"\"\n      }\n    },\n    {\n      \"column\": \"rsiSma(14)\",\n      \"properties\": {\n        \"dtype\": \"number\",\n        \"std\": 8.791513055679816,\n        \"min\": 36.39045857671498,\n        \"max\": 57.32838249584971,\n        \"num_unique_values\": 5,\n        \"samples\": [\n          43.61756604876463\n        ],\n        \"semantic_type\": \"\",\n        \"description\": \"\"\n      }\n    },\n    {\n      \"column\": \"rsiEma(14)\",\n      \"properties\": {\n        \"dtype\": \"number\",\n        \"std\": 7.1473023834834235,\n        \"min\": 43.325286846253846,\n        \"max\": 62.66659348602095,\n        \"num_unique_values\": 5,\n        \"samples\": [\n          49.68910891769053\n        ],\n        \"semantic_type\": \"\",\n        \"description\": \"\"\n      }\n    },\n    {\n      \"column\": \"mfi(14)\",\n      \"properties\": {\n        \"dtype\": \"number\",\n        \"std\": 7.319820101518419,\n        \"min\": 49.51791851284056,\n        \"max\": 66.05617603147157,\n        \"num_unique_values\": 5,\n        \"samples\": [\n          55.60281350346356\n        ],\n        \"semantic_type\": \"\",\n        \"description\": \"\"\n      }\n    }\n  ]\n}"
            }
          },
          "metadata": {},
          "execution_count": 21
        }
      ]
    },
    {
      "cell_type": "code",
      "source": [
        "Features = Features.dropna()\n",
        "print(len(Features))\n"
      ],
      "metadata": {
        "colab": {
          "base_uri": "https://localhost:8080/"
        },
        "id": "0yBRJHKyHD0r",
        "outputId": "ecec5f18-b873-4d08-ef53-76d604a6c6ef"
      },
      "execution_count": 22,
      "outputs": [
        {
          "output_type": "stream",
          "name": "stdout",
          "text": [
            "316\n"
          ]
        }
      ]
    },
    {
      "cell_type": "markdown",
      "source": [
        "## Target"
      ],
      "metadata": {
        "id": "d1IIuTZqHNMb"
      }
    },
    {
      "cell_type": "code",
      "source": [
        "price  = ohlc['Close']\n",
        "\n",
        "shiftby  = -1\n",
        "Target = ( price.diff().shift(shiftby) > 0 ).astype( int )\n",
        "Target = Target.iloc[ :shiftby ] if shiftby < 0 else Target.iloc[ shiftby: ]\n",
        "\n",
        "index = Target.index.intersection( Features.index )\n",
        "\n"
      ],
      "metadata": {
        "id": "l_5O0BheHLzy"
      },
      "execution_count": 23,
      "outputs": []
    },
    {
      "cell_type": "markdown",
      "source": [
        "## Train"
      ],
      "metadata": {
        "id": "rL7VuqXxKQt2"
      }
    },
    {
      "cell_type": "code",
      "source": [
        "Features = Features.loc[ index ]\n",
        "Target   = Target.loc[ index ].squeeze()\n",
        "\n",
        "print( len(Features), len(Target) )\n",
        "print( Features.isnull().sum().sum(), Target.isnull().sum() )\n",
        "\n",
        "Target.value_counts()\n"
      ],
      "metadata": {
        "colab": {
          "base_uri": "https://localhost:8080/",
          "height": 213
        },
        "id": "i0EsPrGxKPUh",
        "outputId": "b5f995f2-9f5a-46dd-ef5b-34e43870334d"
      },
      "execution_count": 24,
      "outputs": [
        {
          "output_type": "stream",
          "name": "stdout",
          "text": [
            "315 315\n",
            "0 0\n"
          ]
        },
        {
          "output_type": "execute_result",
          "data": {
            "text/plain": [
              "Close\n",
              "1    160\n",
              "0    155\n",
              "Name: count, dtype: int64"
            ],
            "text/html": [
              "<div>\n",
              "<style scoped>\n",
              "    .dataframe tbody tr th:only-of-type {\n",
              "        vertical-align: middle;\n",
              "    }\n",
              "\n",
              "    .dataframe tbody tr th {\n",
              "        vertical-align: top;\n",
              "    }\n",
              "\n",
              "    .dataframe thead th {\n",
              "        text-align: right;\n",
              "    }\n",
              "</style>\n",
              "<table border=\"1\" class=\"dataframe\">\n",
              "  <thead>\n",
              "    <tr style=\"text-align: right;\">\n",
              "      <th></th>\n",
              "      <th>count</th>\n",
              "    </tr>\n",
              "    <tr>\n",
              "      <th>Close</th>\n",
              "      <th></th>\n",
              "    </tr>\n",
              "  </thead>\n",
              "  <tbody>\n",
              "    <tr>\n",
              "      <th>1</th>\n",
              "      <td>160</td>\n",
              "    </tr>\n",
              "    <tr>\n",
              "      <th>0</th>\n",
              "      <td>155</td>\n",
              "    </tr>\n",
              "  </tbody>\n",
              "</table>\n",
              "</div><br><label><b>dtype:</b> int64</label>"
            ]
          },
          "metadata": {},
          "execution_count": 24
        }
      ]
    },
    {
      "cell_type": "code",
      "source": [
        "from sklearn.model_selection import TimeSeriesSplit\n",
        "from sklearn.metrics import roc_auc_score\n",
        "from sklearn.pipeline import Pipeline\n",
        "from sklearn.preprocessing import StandardScaler\n",
        "from sklearn.linear_model import LogisticRegression\n",
        "from sklearn.metrics import accuracy_score, f1_score\n",
        "\n",
        "\n",
        "def crossValidationForLogisticRegression( features, target, n_splits=5, random_state=42 ):\n",
        "\n",
        "    metrics = []\n",
        "    importances = []\n",
        "\n",
        "\n",
        "    X = features.values\n",
        "    y = target.values\n",
        "    tscv = TimeSeriesSplit( n_splits=n_splits )\n",
        "    for trainIdx, testIdx in tscv.split(X):\n",
        "\n",
        "        pipeline = Pipeline(steps=[\n",
        "            (\"scaler\", StandardScaler()),\n",
        "            (\"logistic\", LogisticRegression(\n",
        "                solver       = 'liblinear',\n",
        "                max_iter     = 2000,\n",
        "                random_state = random_state\n",
        "            ))\n",
        "        ])\n",
        "        pipeline.fit(X[trainIdx], y[trainIdx])\n",
        "\n",
        "        y_pred  = pipeline.predict(X[testIdx])\n",
        "        y_proba = pipeline.predict_proba(X[testIdx])[:, 1]\n",
        "\n",
        "        metrics.append({\n",
        "            'roc_auc'  : roc_auc_score( y[testIdx], y_proba ),\n",
        "            'accuracy' : accuracy_score( y[testIdx], y_pred ),\n",
        "            'f1'       : f1_score( y[testIdx], y_pred ),\n",
        "        })\n",
        "\n",
        "\n",
        "        lr = pipeline.named_steps[\"logistic\"]\n",
        "        importances.append( dict( zip( Features.columns, lr.coef_[0], )))\n",
        "\n",
        "    return pd.DataFrame( metrics ), pd.DataFrame( importances ).T\n",
        "\n",
        "\n",
        "metrics, importances = crossValidationForLogisticRegression( Features, Target, n_splits=5 )\n",
        "\n",
        "print( metrics.mean() )\n",
        "\n",
        "importances.mean(1).abs().sort_values( ascending=False )\n",
        "\n"
      ],
      "metadata": {
        "colab": {
          "base_uri": "https://localhost:8080/",
          "height": 436
        },
        "id": "zoFWAeRCKbkG",
        "outputId": "648e8a2e-96ce-44e3-d348-bdce1d06f575"
      },
      "execution_count": 25,
      "outputs": [
        {
          "output_type": "stream",
          "name": "stdout",
          "text": [
            "roc_auc     0.546083\n",
            "accuracy    0.503846\n",
            "f1          0.326203\n",
            "dtype: float64\n"
          ]
        },
        {
          "output_type": "execute_result",
          "data": {
            "text/plain": [
              "rsiSma(14)                 0.583134\n",
              "macdDistance(12, 26, 9)    0.525296\n",
              "bollLower(20,2)            0.373629\n",
              "ema(30)                    0.282009\n",
              "sma(30)                    0.222065\n",
              "x(sma(15),sma(50))         0.180008\n",
              "rsiEma(14)                 0.168882\n",
              "bollUpper(20,2)            0.149608\n",
              "mfi(14)                    0.072163\n",
              "dtype: float64"
            ],
            "text/html": [
              "<div>\n",
              "<style scoped>\n",
              "    .dataframe tbody tr th:only-of-type {\n",
              "        vertical-align: middle;\n",
              "    }\n",
              "\n",
              "    .dataframe tbody tr th {\n",
              "        vertical-align: top;\n",
              "    }\n",
              "\n",
              "    .dataframe thead th {\n",
              "        text-align: right;\n",
              "    }\n",
              "</style>\n",
              "<table border=\"1\" class=\"dataframe\">\n",
              "  <thead>\n",
              "    <tr style=\"text-align: right;\">\n",
              "      <th></th>\n",
              "      <th>0</th>\n",
              "    </tr>\n",
              "  </thead>\n",
              "  <tbody>\n",
              "    <tr>\n",
              "      <th>rsiSma(14)</th>\n",
              "      <td>0.583134</td>\n",
              "    </tr>\n",
              "    <tr>\n",
              "      <th>macdDistance(12, 26, 9)</th>\n",
              "      <td>0.525296</td>\n",
              "    </tr>\n",
              "    <tr>\n",
              "      <th>bollLower(20,2)</th>\n",
              "      <td>0.373629</td>\n",
              "    </tr>\n",
              "    <tr>\n",
              "      <th>ema(30)</th>\n",
              "      <td>0.282009</td>\n",
              "    </tr>\n",
              "    <tr>\n",
              "      <th>sma(30)</th>\n",
              "      <td>0.222065</td>\n",
              "    </tr>\n",
              "    <tr>\n",
              "      <th>x(sma(15),sma(50))</th>\n",
              "      <td>0.180008</td>\n",
              "    </tr>\n",
              "    <tr>\n",
              "      <th>rsiEma(14)</th>\n",
              "      <td>0.168882</td>\n",
              "    </tr>\n",
              "    <tr>\n",
              "      <th>bollUpper(20,2)</th>\n",
              "      <td>0.149608</td>\n",
              "    </tr>\n",
              "    <tr>\n",
              "      <th>mfi(14)</th>\n",
              "      <td>0.072163</td>\n",
              "    </tr>\n",
              "  </tbody>\n",
              "</table>\n",
              "</div><br><label><b>dtype:</b> float64</label>"
            ]
          },
          "metadata": {},
          "execution_count": 25
        }
      ]
    },
    {
      "cell_type": "code",
      "source": [],
      "metadata": {
        "id": "Mh2Z76wujufR"
      },
      "execution_count": 25,
      "outputs": []
    }
  ]
}